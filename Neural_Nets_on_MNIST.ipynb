{
  "cells": [
    {
      "cell_type": "markdown",
      "metadata": {
        "id": "USSV_OlCFKOD"
      },
      "source": [
        "# Exploring MNIST with Keras\n"
      ]
    },
    {
      "cell_type": "markdown",
      "metadata": {
        "id": "OGw9EgE0tC0C"
      },
      "source": [
        "<table class=\"tfo-notebook-buttons\" align=\"left\">\n",
        "  <td>\n",
        "    <a target=\"_blank\" href=\"https://www.tensorflow.org/datasets/keras_example\"><img src=\"https://www.tensorflow.org/images/tf_logo_32px.png\" />View on TensorFlow.org</a>\n",
        "  </td>\n",
        "  <td>\n",
        "    <a target=\"_blank\" href=\"https://colab.research.google.com/github/tensorflow/datasets/blob/master/docs/keras_example.ipynb\"><img src=\"https://www.tensorflow.org/images/colab_logo_32px.png\" />Run in Google Colab</a>\n",
        "  </td>\n",
        "  <td>\n",
        "    <a target=\"_blank\" href=\"https://github.com/tensorflow/datasets/blob/master/docs/keras_example.ipynb\"><img src=\"https://www.tensorflow.org/images/GitHub-Mark-32px.png\" />View source on GitHub</a>\n",
        "  </td>\n",
        "  <td>\n",
        "    <a href=\"https://storage.googleapis.com/tensorflow_docs/datasets/docs/keras_example.ipynb\"><img src=\"https://www.tensorflow.org/images/download_logo_32px.png\" />Download notebook</a>\n",
        "  </td>\n",
        "</table>"
      ]
    },
    {
      "cell_type": "markdown",
      "source": [
        "# Dependencies Block"
      ],
      "metadata": {
        "id": "wrNGX9Pcd_co"
      }
    },
    {
      "cell_type": "code",
      "execution_count": null,
      "metadata": {
        "id": "TTBSvHcSLBzc"
      },
      "outputs": [],
      "source": [
        "import numpy as np\n",
        "import matplotlib.pyplot as plt\n",
        "\n",
        "import tensorflow as tf\n",
        "from tensorflow.keras import datasets, layers, models, optimizers, losses, metrics\n",
        "\n",
        "print(np.__version__, tf.__version__)"
      ]
    },
    {
      "cell_type": "markdown",
      "source": [
        "# Loading the Data"
      ],
      "metadata": {
        "id": "HsjHXz4ieB82"
      }
    },
    {
      "cell_type": "code",
      "source": [
        "(train_images, train_labels), (test_images, test_labels) = datasets.mnist.load_data()\n",
        "len(train_images), len(train_labels), \\\n",
        "len(test_images), len(test_labels)"
      ],
      "metadata": {
        "id": "SFNgaMrGTiO3"
      },
      "execution_count": null,
      "outputs": []
    },
    {
      "cell_type": "markdown",
      "source": [
        "### Exploring the Data"
      ],
      "metadata": {
        "id": "fFp8225neKbv"
      }
    },
    {
      "cell_type": "code",
      "source": [
        "test_images.shape"
      ],
      "metadata": {
        "id": "Vs_vVPvyTwfb"
      },
      "execution_count": null,
      "outputs": []
    },
    {
      "cell_type": "code",
      "source": [
        "training_labels, training_frequencies = np.unique(train_labels, return_counts = True)\n",
        "plt.bar(\n",
        "  training_labels,\n",
        "  training_frequencies    \n",
        ")"
      ],
      "metadata": {
        "id": "Ax7eeROieMsB"
      },
      "execution_count": null,
      "outputs": []
    },
    {
      "cell_type": "code",
      "source": [
        "testing_labels, testing_frequencies = np.unique(test_labels, return_counts = True)\n",
        "plt.bar(\n",
        "  testing_labels,\n",
        "  testing_frequencies    \n",
        ")"
      ],
      "metadata": {
        "id": "OytLjDr1eh0m"
      },
      "execution_count": null,
      "outputs": []
    },
    {
      "cell_type": "markdown",
      "source": [
        "## Transforming the Data"
      ],
      "metadata": {
        "id": "C9f2AHaGeN6T"
      }
    },
    {
      "cell_type": "code",
      "source": [
        "def normalize_img(image: np.ndarray):\n",
        "  \"\"\"Normalizes images: `uint8` -> `float32`.\"\"\"\n",
        "  return image.astype(np.float32) / 255.\n",
        "\n",
        "normalized_train_images = np.apply_along_axis(normalize_img, 0, train_images)\n",
        "normalized_test_images =  np.apply_along_axis(normalize_img, 0, test_images)"
      ],
      "metadata": {
        "id": "4tMpd201T4mz"
      },
      "execution_count": null,
      "outputs": []
    },
    {
      "cell_type": "markdown",
      "source": [
        "# Models\n",
        "## First Starting with a Simple Fully-Connected Feed-Forward Neural Network"
      ],
      "metadata": {
        "id": "8XMfHsMNeoDS"
      }
    },
    {
      "cell_type": "code",
      "execution_count": null,
      "metadata": {
        "id": "XWqxdmS1NLKA"
      },
      "outputs": [],
      "source": [
        "model = models.Sequential([\n",
        "  layers.Flatten(input_shape=(28, 28)), # this layer converts the 28x28 images (arrays) into 1x784 arrays\n",
        "  layers.Dense(128, activation='relu'),\n",
        "  layers.Dense(10) # SIGNAL; not probability predictions\n",
        "])\n",
        "\n",
        "model.compile(\n",
        "    optimizer=optimizers.Adam(0.001),\n",
        "    loss=losses.SparseCategoricalCrossentropy(from_logits=True),\n",
        "    metrics=[metrics.SparseCategoricalAccuracy()], # https://www.tensorflow.org/api_docs/python/tf/keras/metrics/categorical_accuracy\n",
        ")\n",
        "\n",
        "model.summary()\n"
      ]
    },
    {
      "cell_type": "code",
      "source": [
        "model.fit(\n",
        "    normalized_train_images, \n",
        "    train_labels, \n",
        "    epochs=10, \n",
        "    validation_data=(normalized_test_images, test_labels)\n",
        ")"
      ],
      "metadata": {
        "id": "pa-OeBpoUtbt"
      },
      "execution_count": null,
      "outputs": []
    },
    {
      "cell_type": "markdown",
      "source": [
        "## Then Trying a Convolutional Neural Network"
      ],
      "metadata": {
        "id": "dPd1AeYZewL1"
      }
    },
    {
      "cell_type": "code",
      "source": [
        "model = models.Sequential()\n",
        "model.add(layers.Conv2D(32, (3, 3), activation='relu', input_shape=(28, 28, 1)))\n",
        "model.add(layers.MaxPooling2D((2, 2)))\n",
        "model.add(layers.Conv2D(64, (3, 3), activation='relu'))\n",
        "model.add(layers.MaxPooling2D((2, 2)))\n",
        "model.add(layers.Conv2D(64, (3, 3), activation='relu'))\n",
        "\n",
        "model.add(layers.Flatten())\n",
        "model.add(layers.Dense(64, activation='relu'))\n",
        "model.add(layers.Dense(10))\n",
        "\n",
        "model.compile(\n",
        "    optimizer=optimizers.Adam(0.001),\n",
        "    loss=losses.SparseCategoricalCrossentropy(from_logits=True),\n",
        "    metrics=[metrics.SparseCategoricalAccuracy()], # https://www.tensorflow.org/api_docs/python/tf/keras/metrics/categorical_accuracy\n",
        ")\n",
        "\n",
        "model.summary()"
      ],
      "metadata": {
        "id": "EJ0n5iKGRp4O"
      },
      "execution_count": null,
      "outputs": []
    },
    {
      "cell_type": "code",
      "source": [
        "model.fit(\n",
        "    normalized_train_images, \n",
        "    train_labels, \n",
        "    epochs=5, \n",
        "    validation_data=(normalized_test_images, test_labels)\n",
        ")"
      ],
      "metadata": {
        "id": "f-s3RAAaSzAD"
      },
      "execution_count": null,
      "outputs": []
    },
    {
      "cell_type": "code",
      "source": [
        ""
      ],
      "metadata": {
        "id": "ztJjTnwZYiMU"
      },
      "execution_count": null,
      "outputs": []
    }
  ],
  "metadata": {
    "colab": {
      "collapsed_sections": [],
      "name": "Neural_Nets_on_MNIST.ipynb",
      "private_outputs": true,
      "provenance": [],
      "toc_visible": true
    },
    "kernelspec": {
      "display_name": "Python 3",
      "name": "python3"
    }
  },
  "nbformat": 4,
  "nbformat_minor": 0
}